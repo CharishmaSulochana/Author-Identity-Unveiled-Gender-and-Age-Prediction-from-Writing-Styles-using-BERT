{
 "cells": [
  {
   "cell_type": "markdown",
   "metadata": {
    "id": "dZwFS_9KPZcy"
   },
   "source": [
    "\n",
    "### **Importing Libraries**"
   ]
  },
  {
   "cell_type": "code",
   "execution_count": 3,
   "metadata": {
    "id": "Im8TExR_INLW"
   },
   "outputs": [],
   "source": [
    "import os\n",
    "import numpy as np\n",
    "import pandas as pd\n",
    "import re\n",
    "import tensorflow as tf\n",
    "from sklearn.impute import SimpleImputer\n",
    "from bs4 import BeautifulSoup\n",
    "import re,string,unicodedata\n",
    "from sklearn.feature_extraction.text import CountVectorizer, TfidfVectorizer\n",
    "from sklearn.model_selection import train_test_split\n",
    "from sklearn.preprocessing import LabelEncoder\n",
    "from sklearn.metrics import accuracy_score, classification_report,confusion_matrix\n"
   ]
  },
  {
   "cell_type": "markdown",
   "metadata": {
    "id": "WQNJJOFjPpUT"
   },
   "source": [
    "## Loding Dataset"
   ]
  },
  {
   "cell_type": "code",
   "execution_count": 4,
   "metadata": {
    "id": "8UqPfoRMIThN"
   },
   "outputs": [],
   "source": [
    "data=pd.read_csv('author.csv',nrows=10000)"
   ]
  },
  {
   "cell_type": "code",
   "execution_count": 5,
   "metadata": {
    "colab": {
     "base_uri": "https://localhost:8080/",
     "height": 423
    },
    "id": "5qy9N0HMIpv4",
    "outputId": "221e2b41-9375-4859-d6fb-355c7c477053"
   },
   "outputs": [
    {
     "data": {
      "text/html": [
       "<div>\n",
       "<style scoped>\n",
       "    .dataframe tbody tr th:only-of-type {\n",
       "        vertical-align: middle;\n",
       "    }\n",
       "\n",
       "    .dataframe tbody tr th {\n",
       "        vertical-align: top;\n",
       "    }\n",
       "\n",
       "    .dataframe thead th {\n",
       "        text-align: right;\n",
       "    }\n",
       "</style>\n",
       "<table border=\"1\" class=\"dataframe\">\n",
       "  <thead>\n",
       "    <tr style=\"text-align: right;\">\n",
       "      <th></th>\n",
       "      <th>Gender</th>\n",
       "      <th>Age Group</th>\n",
       "      <th>Content</th>\n",
       "    </tr>\n",
       "  </thead>\n",
       "  <tbody>\n",
       "    <tr>\n",
       "      <th>0</th>\n",
       "      <td>female</td>\n",
       "      <td>30s</td>\n",
       "      <td>By deciding on a tidy organizational device yo...</td>\n",
       "    </tr>\n",
       "    <tr>\n",
       "      <th>1</th>\n",
       "      <td>female</td>\n",
       "      <td>20s</td>\n",
       "      <td>Each year we all make the same resolutions: to...</td>\n",
       "    </tr>\n",
       "    <tr>\n",
       "      <th>2</th>\n",
       "      <td>male</td>\n",
       "      <td>30s</td>\n",
       "      <td>For indoor utilizes these lights come in reduc...</td>\n",
       "    </tr>\n",
       "    <tr>\n",
       "      <th>3</th>\n",
       "      <td>female</td>\n",
       "      <td>30s</td>\n",
       "      <td>1. Look your best.&lt;br /&gt;;If you're a Kurt Coba...</td>\n",
       "    </tr>\n",
       "    <tr>\n",
       "      <th>4</th>\n",
       "      <td>female</td>\n",
       "      <td>20s</td>\n",
       "      <td>For years tax debt resolution was about mislea...</td>\n",
       "    </tr>\n",
       "    <tr>\n",
       "      <th>5</th>\n",
       "      <td>female</td>\n",
       "      <td>30s</td>\n",
       "      <td>&lt;img class=\"smiley\" src=\"http://www.pan.net/sm...</td>\n",
       "    </tr>\n",
       "    <tr>\n",
       "      <th>6</th>\n",
       "      <td>female</td>\n",
       "      <td>20s</td>\n",
       "      <td>Its better a living Dog, than a dead Lion........</td>\n",
       "    </tr>\n",
       "    <tr>\n",
       "      <th>7</th>\n",
       "      <td>female</td>\n",
       "      <td>30s</td>\n",
       "      <td>&lt;a href=\"http://en.pan.netcom/go/out/url=-aHR0...</td>\n",
       "    </tr>\n",
       "    <tr>\n",
       "      <th>8</th>\n",
       "      <td>female</td>\n",
       "      <td>20s</td>\n",
       "      <td>For centuries, society has been slowly driftin...</td>\n",
       "    </tr>\n",
       "    <tr>\n",
       "      <th>9</th>\n",
       "      <td>female</td>\n",
       "      <td>30s</td>\n",
       "      <td>Any homeowner that is currently dealing with a...</td>\n",
       "    </tr>\n",
       "  </tbody>\n",
       "</table>\n",
       "</div>"
      ],
      "text/plain": [
       "   Gender Age Group                                            Content\n",
       "0  female       30s  By deciding on a tidy organizational device yo...\n",
       "1  female       20s  Each year we all make the same resolutions: to...\n",
       "2    male       30s  For indoor utilizes these lights come in reduc...\n",
       "3  female       30s  1. Look your best.<br />;If you're a Kurt Coba...\n",
       "4  female       20s  For years tax debt resolution was about mislea...\n",
       "5  female       30s  <img class=\"smiley\" src=\"http://www.pan.net/sm...\n",
       "6  female       20s  Its better a living Dog, than a dead Lion........\n",
       "7  female       30s  <a href=\"http://en.pan.netcom/go/out/url=-aHR0...\n",
       "8  female       20s  For centuries, society has been slowly driftin...\n",
       "9  female       30s  Any homeowner that is currently dealing with a..."
      ]
     },
     "execution_count": 5,
     "metadata": {},
     "output_type": "execute_result"
    }
   ],
   "source": [
    "data.head(10)"
   ]
  },
  {
   "cell_type": "markdown",
   "metadata": {
    "id": "lvbbHzJpPyhl"
   },
   "source": [
    "### Drop rows with missing Values in content"
   ]
  },
  {
   "cell_type": "code",
   "execution_count": 6,
   "metadata": {
    "colab": {
     "base_uri": "https://localhost:8080/"
    },
    "id": "PXmSAH_FXb8Q",
    "outputId": "25ee574f-7b57-4f6b-a431-e5487ebac1db"
   },
   "outputs": [
    {
     "data": {
      "text/plain": [
       "0"
      ]
     },
     "execution_count": 6,
     "metadata": {},
     "output_type": "execute_result"
    }
   ],
   "source": [
    "missing_values = data['Content'].isnull().sum()\n",
    "missing_values"
   ]
  },
  {
   "cell_type": "code",
   "execution_count": 7,
   "metadata": {
    "id": "4Jp89HocX8vG"
   },
   "outputs": [],
   "source": [
    "data = data.dropna(subset=['Content'])"
   ]
  },
  {
   "cell_type": "markdown",
   "metadata": {
    "id": "S7jOn7IXQKDX"
   },
   "source": [
    "### Null values in the dataset"
   ]
  },
  {
   "cell_type": "code",
   "execution_count": 8,
   "metadata": {
    "id": "KuyylwpQYAU3"
   },
   "outputs": [],
   "source": [
    "null_values = data.isnull().sum()"
   ]
  },
  {
   "cell_type": "code",
   "execution_count": 9,
   "metadata": {
    "colab": {
     "base_uri": "https://localhost:8080/"
    },
    "id": "71krIugpJPVm",
    "outputId": "74fd212a-75e5-450d-c851-09affeb02544"
   },
   "outputs": [
    {
     "name": "stdout",
     "output_type": "stream",
     "text": [
      "There are 0 missing values for Gender and 0 missing values for Age Group 0 Content.\n"
     ]
    }
   ],
   "source": [
    "print('There are {} missing values for {} and {} missing values for {} {} {}.'.format(null_values[0],null_values.index[0],null_values[1],null_values.index[1],null_values[2],null_values.index[2]))"
   ]
  },
  {
   "cell_type": "markdown",
   "metadata": {
    "id": "r3nr3Nl1QVRw"
   },
   "source": [
    "### Duplicate Rows"
   ]
  },
  {
   "cell_type": "code",
   "execution_count": 10,
   "metadata": {
    "colab": {
     "base_uri": "https://localhost:8080/"
    },
    "id": "3E_N1R1jJTYd",
    "outputId": "11738f62-a876-489c-c8f3-af9479523315"
   },
   "outputs": [
    {
     "name": "stdout",
     "output_type": "stream",
     "text": [
      "There are 16 duplicatetext present in the dataset\n"
     ]
    }
   ],
   "source": [
    "num_duplicates = data.duplicated().sum()\n",
    "print('There are {} duplicatetext present in the dataset'.format(num_duplicates))"
   ]
  },
  {
   "cell_type": "code",
   "execution_count": 11,
   "metadata": {
    "colab": {
     "base_uri": "https://localhost:8080/"
    },
    "id": "3GQLI_yVJqvB",
    "outputId": "95fdac65-f72b-4c26-8999-442c5d6e837c"
   },
   "outputs": [],
   "source": [
    "data.drop_duplicates(inplace = True)"
   ]
  },
  {
   "cell_type": "markdown",
   "metadata": {
    "id": "OmQ9Ip_EQiDx"
   },
   "source": [
    "### Remaining Rows"
   ]
  },
  {
   "cell_type": "code",
   "execution_count": 12,
   "metadata": {
    "colab": {
     "base_uri": "https://localhost:8080/"
    },
    "id": "zSY8VHK7J00D",
    "outputId": "c60829c1-ca65-4351-dd45-fb905abe0d5a"
   },
   "outputs": [
    {
     "name": "stdout",
     "output_type": "stream",
     "text": [
      "The dataset contains 9984 rows and 3 columns after removing duplicates\n"
     ]
    }
   ],
   "source": [
    "print('The dataset contains {} rows and {} columns after removing duplicates'.format(data.shape[0],data.shape[1]))"
   ]
  },
  {
   "cell_type": "code",
   "execution_count": 13,
   "metadata": {},
   "outputs": [
    {
     "data": {
      "text/html": [
       "<div>\n",
       "<style scoped>\n",
       "    .dataframe tbody tr th:only-of-type {\n",
       "        vertical-align: middle;\n",
       "    }\n",
       "\n",
       "    .dataframe tbody tr th {\n",
       "        vertical-align: top;\n",
       "    }\n",
       "\n",
       "    .dataframe thead th {\n",
       "        text-align: right;\n",
       "    }\n",
       "</style>\n",
       "<table border=\"1\" class=\"dataframe\">\n",
       "  <thead>\n",
       "    <tr style=\"text-align: right;\">\n",
       "      <th></th>\n",
       "      <th>Gender</th>\n",
       "      <th>Age Group</th>\n",
       "      <th>Content</th>\n",
       "    </tr>\n",
       "  </thead>\n",
       "  <tbody>\n",
       "    <tr>\n",
       "      <th>0</th>\n",
       "      <td>female</td>\n",
       "      <td>30s</td>\n",
       "      <td>By deciding on a tidy organizational device yo...</td>\n",
       "    </tr>\n",
       "    <tr>\n",
       "      <th>1</th>\n",
       "      <td>female</td>\n",
       "      <td>20s</td>\n",
       "      <td>Each year we all make the same resolutions: to...</td>\n",
       "    </tr>\n",
       "    <tr>\n",
       "      <th>2</th>\n",
       "      <td>male</td>\n",
       "      <td>30s</td>\n",
       "      <td>For indoor utilizes these lights come in reduc...</td>\n",
       "    </tr>\n",
       "    <tr>\n",
       "      <th>3</th>\n",
       "      <td>female</td>\n",
       "      <td>30s</td>\n",
       "      <td>1. Look your best.&lt;br /&gt;;If you're a Kurt Coba...</td>\n",
       "    </tr>\n",
       "    <tr>\n",
       "      <th>4</th>\n",
       "      <td>female</td>\n",
       "      <td>20s</td>\n",
       "      <td>For years tax debt resolution was about mislea...</td>\n",
       "    </tr>\n",
       "    <tr>\n",
       "      <th>5</th>\n",
       "      <td>female</td>\n",
       "      <td>30s</td>\n",
       "      <td>&lt;img class=\"smiley\" src=\"http://www.pan.net/sm...</td>\n",
       "    </tr>\n",
       "    <tr>\n",
       "      <th>6</th>\n",
       "      <td>female</td>\n",
       "      <td>20s</td>\n",
       "      <td>Its better a living Dog, than a dead Lion........</td>\n",
       "    </tr>\n",
       "    <tr>\n",
       "      <th>7</th>\n",
       "      <td>female</td>\n",
       "      <td>30s</td>\n",
       "      <td>&lt;a href=\"http://en.pan.netcom/go/out/url=-aHR0...</td>\n",
       "    </tr>\n",
       "    <tr>\n",
       "      <th>8</th>\n",
       "      <td>female</td>\n",
       "      <td>20s</td>\n",
       "      <td>For centuries, society has been slowly driftin...</td>\n",
       "    </tr>\n",
       "    <tr>\n",
       "      <th>9</th>\n",
       "      <td>female</td>\n",
       "      <td>30s</td>\n",
       "      <td>Any homeowner that is currently dealing with a...</td>\n",
       "    </tr>\n",
       "  </tbody>\n",
       "</table>\n",
       "</div>"
      ],
      "text/plain": [
       "   Gender Age Group                                            Content\n",
       "0  female       30s  By deciding on a tidy organizational device yo...\n",
       "1  female       20s  Each year we all make the same resolutions: to...\n",
       "2    male       30s  For indoor utilizes these lights come in reduc...\n",
       "3  female       30s  1. Look your best.<br />;If you're a Kurt Coba...\n",
       "4  female       20s  For years tax debt resolution was about mislea...\n",
       "5  female       30s  <img class=\"smiley\" src=\"http://www.pan.net/sm...\n",
       "6  female       20s  Its better a living Dog, than a dead Lion........\n",
       "7  female       30s  <a href=\"http://en.pan.netcom/go/out/url=-aHR0...\n",
       "8  female       20s  For centuries, society has been slowly driftin...\n",
       "9  female       30s  Any homeowner that is currently dealing with a..."
      ]
     },
     "execution_count": 13,
     "metadata": {},
     "output_type": "execute_result"
    }
   ],
   "source": [
    "data.head(10)"
   ]
  },
  {
   "cell_type": "markdown",
   "metadata": {
    "id": "3INoHXt2Qmbz"
   },
   "source": [
    "## Count of Ages and Gender"
   ]
  },
  {
   "cell_type": "code",
   "execution_count": 14,
   "metadata": {
    "colab": {
     "base_uri": "https://localhost:8080/"
    },
    "id": "Tabx_VzwWmdh",
    "outputId": "b48c3c48-0cff-4d98-bb16-056a5bc4a398"
   },
   "outputs": [
    {
     "name": "stdout",
     "output_type": "stream",
     "text": [
      "Age Counts:\n",
      "30s    5708\n",
      "20s    3556\n",
      "10s     720\n",
      "Name: Age Group, dtype: int64\n",
      "\n",
      "Gender Counts:\n",
      "male      5049\n",
      "female    4935\n",
      "Name: Gender, dtype: int64\n"
     ]
    }
   ],
   "source": [
    "age_counts = data['Age Group'].value_counts()\n",
    "gender_counts = data['Gender'].value_counts()\n",
    "print(\"Age Counts:\")\n",
    "print(age_counts)\n",
    "print(\"\\nGender Counts:\")\n",
    "print(gender_counts)"
   ]
  },
  {
   "cell_type": "markdown",
   "metadata": {
    "id": "rAvHoXJfRArM"
   },
   "source": [
    "## PreProcessing"
   ]
  },
  {
   "cell_type": "code",
   "execution_count": 15,
   "metadata": {
    "id": "V22nFQi_QG6-"
   },
   "outputs": [],
   "source": [
    "def preprocess_text(text):\n",
    "    text = re.sub(r'<\\s*br\\s*/?\\s*>', '', text) # html tags\n",
    "    text = re.sub(r'[^\\w\\s]', '', text)  # Remove punctuation\n",
    "    text = re.sub(r'\\d', '', text)  # Remove numbers\n",
    "    text = text.lower()  # Convert to lowercase\n",
    "    text = re.sub(r'\\s+', ' ', text).strip()  # Remove extra whitespace\n",
    "    return text"
   ]
  },
  {
   "cell_type": "code",
   "execution_count": 16,
   "metadata": {
    "colab": {
     "base_uri": "https://localhost:8080/"
    },
    "id": "MkmsdQrpOej4",
    "outputId": "57772adb-8927-4758-fdce-2960104dd866"
   },
   "outputs": [
    {
     "name": "stdout",
     "output_type": "stream",
     "text": [
      "<class 'str'>    9984\n",
      "Name: Content, dtype: int64\n"
     ]
    }
   ],
   "source": [
    "print(data['Content'].apply(type).value_counts())"
   ]
  },
  {
   "cell_type": "code",
   "execution_count": 17,
   "metadata": {
    "id": "2mUrixgaOn0J"
   },
   "outputs": [],
   "source": [
    "data=data[pd.notna(data['Content'])]"
   ]
  },
  {
   "cell_type": "code",
   "execution_count": 18,
   "metadata": {
    "id": "dTbiKpfwQNZd"
   },
   "outputs": [],
   "source": [
    "data['Processed Text'] = data['Content'].apply(preprocess_text)"
   ]
  },
  {
   "cell_type": "code",
   "execution_count": 19,
   "metadata": {},
   "outputs": [
    {
     "data": {
      "text/html": [
       "<div>\n",
       "<style scoped>\n",
       "    .dataframe tbody tr th:only-of-type {\n",
       "        vertical-align: middle;\n",
       "    }\n",
       "\n",
       "    .dataframe tbody tr th {\n",
       "        vertical-align: top;\n",
       "    }\n",
       "\n",
       "    .dataframe thead th {\n",
       "        text-align: right;\n",
       "    }\n",
       "</style>\n",
       "<table border=\"1\" class=\"dataframe\">\n",
       "  <thead>\n",
       "    <tr style=\"text-align: right;\">\n",
       "      <th></th>\n",
       "      <th>Gender</th>\n",
       "      <th>Age Group</th>\n",
       "      <th>Content</th>\n",
       "      <th>Processed Text</th>\n",
       "    </tr>\n",
       "  </thead>\n",
       "  <tbody>\n",
       "    <tr>\n",
       "      <th>0</th>\n",
       "      <td>female</td>\n",
       "      <td>30s</td>\n",
       "      <td>By deciding on a tidy organizational device yo...</td>\n",
       "      <td>by deciding on a tidy organizational device yo...</td>\n",
       "    </tr>\n",
       "    <tr>\n",
       "      <th>1</th>\n",
       "      <td>female</td>\n",
       "      <td>20s</td>\n",
       "      <td>Each year we all make the same resolutions: to...</td>\n",
       "      <td>each year we all make the same resolutions to ...</td>\n",
       "    </tr>\n",
       "    <tr>\n",
       "      <th>2</th>\n",
       "      <td>male</td>\n",
       "      <td>30s</td>\n",
       "      <td>For indoor utilizes these lights come in reduc...</td>\n",
       "      <td>for indoor utilizes these lights come in reduc...</td>\n",
       "    </tr>\n",
       "    <tr>\n",
       "      <th>3</th>\n",
       "      <td>female</td>\n",
       "      <td>30s</td>\n",
       "      <td>1. Look your best.&lt;br /&gt;;If you're a Kurt Coba...</td>\n",
       "      <td>look your bestif youre a kurt cobain or johnny...</td>\n",
       "    </tr>\n",
       "    <tr>\n",
       "      <th>4</th>\n",
       "      <td>female</td>\n",
       "      <td>20s</td>\n",
       "      <td>For years tax debt resolution was about mislea...</td>\n",
       "      <td>for years tax debt resolution was about mislea...</td>\n",
       "    </tr>\n",
       "    <tr>\n",
       "      <th>5</th>\n",
       "      <td>female</td>\n",
       "      <td>30s</td>\n",
       "      <td>&lt;img class=\"smiley\" src=\"http://www.pan.net/sm...</td>\n",
       "      <td>img classsmiley srchttpwwwpannetsmiliessmilegi...</td>\n",
       "    </tr>\n",
       "    <tr>\n",
       "      <th>6</th>\n",
       "      <td>female</td>\n",
       "      <td>20s</td>\n",
       "      <td>Its better a living Dog, than a dead Lion........</td>\n",
       "      <td>its better a living dog than a dead lion</td>\n",
       "    </tr>\n",
       "    <tr>\n",
       "      <th>7</th>\n",
       "      <td>female</td>\n",
       "      <td>30s</td>\n",
       "      <td>&lt;a href=\"http://en.pan.netcom/go/out/url=-aHR0...</td>\n",
       "      <td>a hrefhttpenpannetcomgoouturlahrcdovlddytzwxyb...</td>\n",
       "    </tr>\n",
       "    <tr>\n",
       "      <th>8</th>\n",
       "      <td>female</td>\n",
       "      <td>20s</td>\n",
       "      <td>For centuries, society has been slowly driftin...</td>\n",
       "      <td>for centuries society has been slowly drifting...</td>\n",
       "    </tr>\n",
       "    <tr>\n",
       "      <th>9</th>\n",
       "      <td>female</td>\n",
       "      <td>30s</td>\n",
       "      <td>Any homeowner that is currently dealing with a...</td>\n",
       "      <td>any homeowner that is currently dealing with a...</td>\n",
       "    </tr>\n",
       "  </tbody>\n",
       "</table>\n",
       "</div>"
      ],
      "text/plain": [
       "   Gender Age Group                                            Content  \\\n",
       "0  female       30s  By deciding on a tidy organizational device yo...   \n",
       "1  female       20s  Each year we all make the same resolutions: to...   \n",
       "2    male       30s  For indoor utilizes these lights come in reduc...   \n",
       "3  female       30s  1. Look your best.<br />;If you're a Kurt Coba...   \n",
       "4  female       20s  For years tax debt resolution was about mislea...   \n",
       "5  female       30s  <img class=\"smiley\" src=\"http://www.pan.net/sm...   \n",
       "6  female       20s  Its better a living Dog, than a dead Lion........   \n",
       "7  female       30s  <a href=\"http://en.pan.netcom/go/out/url=-aHR0...   \n",
       "8  female       20s  For centuries, society has been slowly driftin...   \n",
       "9  female       30s  Any homeowner that is currently dealing with a...   \n",
       "\n",
       "                                      Processed Text  \n",
       "0  by deciding on a tidy organizational device yo...  \n",
       "1  each year we all make the same resolutions to ...  \n",
       "2  for indoor utilizes these lights come in reduc...  \n",
       "3  look your bestif youre a kurt cobain or johnny...  \n",
       "4  for years tax debt resolution was about mislea...  \n",
       "5  img classsmiley srchttpwwwpannetsmiliessmilegi...  \n",
       "6           its better a living dog than a dead lion  \n",
       "7  a hrefhttpenpannetcomgoouturlahrcdovlddytzwxyb...  \n",
       "8  for centuries society has been slowly drifting...  \n",
       "9  any homeowner that is currently dealing with a...  "
      ]
     },
     "execution_count": 19,
     "metadata": {},
     "output_type": "execute_result"
    }
   ],
   "source": [
    "data.head(10)"
   ]
  },
  {
   "cell_type": "markdown",
   "metadata": {
    "id": "KsCq1xoNRF7h"
   },
   "source": [
    "## String Indexer"
   ]
  },
  {
   "cell_type": "code",
   "execution_count": 20,
   "metadata": {
    "colab": {
     "base_uri": "https://localhost:8080/",
     "height": 206
    },
    "id": "yHhT3pK0UOu8",
    "outputId": "b62ab092-eed5-4475-a209-ff257c073c7e"
   },
   "outputs": [
    {
     "data": {
      "text/html": [
       "<div>\n",
       "<style scoped>\n",
       "    .dataframe tbody tr th:only-of-type {\n",
       "        vertical-align: middle;\n",
       "    }\n",
       "\n",
       "    .dataframe tbody tr th {\n",
       "        vertical-align: top;\n",
       "    }\n",
       "\n",
       "    .dataframe thead th {\n",
       "        text-align: right;\n",
       "    }\n",
       "</style>\n",
       "<table border=\"1\" class=\"dataframe\">\n",
       "  <thead>\n",
       "    <tr style=\"text-align: right;\">\n",
       "      <th></th>\n",
       "      <th>Gender</th>\n",
       "      <th>Age Group</th>\n",
       "      <th>Content</th>\n",
       "      <th>Processed Text</th>\n",
       "      <th>Gender_indexed</th>\n",
       "    </tr>\n",
       "  </thead>\n",
       "  <tbody>\n",
       "    <tr>\n",
       "      <th>0</th>\n",
       "      <td>female</td>\n",
       "      <td>30s</td>\n",
       "      <td>By deciding on a tidy organizational device yo...</td>\n",
       "      <td>by deciding on a tidy organizational device yo...</td>\n",
       "      <td>0</td>\n",
       "    </tr>\n",
       "    <tr>\n",
       "      <th>1</th>\n",
       "      <td>female</td>\n",
       "      <td>20s</td>\n",
       "      <td>Each year we all make the same resolutions: to...</td>\n",
       "      <td>each year we all make the same resolutions to ...</td>\n",
       "      <td>0</td>\n",
       "    </tr>\n",
       "    <tr>\n",
       "      <th>2</th>\n",
       "      <td>male</td>\n",
       "      <td>30s</td>\n",
       "      <td>For indoor utilizes these lights come in reduc...</td>\n",
       "      <td>for indoor utilizes these lights come in reduc...</td>\n",
       "      <td>1</td>\n",
       "    </tr>\n",
       "    <tr>\n",
       "      <th>3</th>\n",
       "      <td>female</td>\n",
       "      <td>30s</td>\n",
       "      <td>1. Look your best.&lt;br /&gt;;If you're a Kurt Coba...</td>\n",
       "      <td>look your bestif youre a kurt cobain or johnny...</td>\n",
       "      <td>0</td>\n",
       "    </tr>\n",
       "    <tr>\n",
       "      <th>4</th>\n",
       "      <td>female</td>\n",
       "      <td>20s</td>\n",
       "      <td>For years tax debt resolution was about mislea...</td>\n",
       "      <td>for years tax debt resolution was about mislea...</td>\n",
       "      <td>0</td>\n",
       "    </tr>\n",
       "    <tr>\n",
       "      <th>5</th>\n",
       "      <td>female</td>\n",
       "      <td>30s</td>\n",
       "      <td>&lt;img class=\"smiley\" src=\"http://www.pan.net/sm...</td>\n",
       "      <td>img classsmiley srchttpwwwpannetsmiliessmilegi...</td>\n",
       "      <td>0</td>\n",
       "    </tr>\n",
       "    <tr>\n",
       "      <th>6</th>\n",
       "      <td>female</td>\n",
       "      <td>20s</td>\n",
       "      <td>Its better a living Dog, than a dead Lion........</td>\n",
       "      <td>its better a living dog than a dead lion</td>\n",
       "      <td>0</td>\n",
       "    </tr>\n",
       "    <tr>\n",
       "      <th>7</th>\n",
       "      <td>female</td>\n",
       "      <td>30s</td>\n",
       "      <td>&lt;a href=\"http://en.pan.netcom/go/out/url=-aHR0...</td>\n",
       "      <td>a hrefhttpenpannetcomgoouturlahrcdovlddytzwxyb...</td>\n",
       "      <td>0</td>\n",
       "    </tr>\n",
       "    <tr>\n",
       "      <th>8</th>\n",
       "      <td>female</td>\n",
       "      <td>20s</td>\n",
       "      <td>For centuries, society has been slowly driftin...</td>\n",
       "      <td>for centuries society has been slowly drifting...</td>\n",
       "      <td>0</td>\n",
       "    </tr>\n",
       "    <tr>\n",
       "      <th>9</th>\n",
       "      <td>female</td>\n",
       "      <td>30s</td>\n",
       "      <td>Any homeowner that is currently dealing with a...</td>\n",
       "      <td>any homeowner that is currently dealing with a...</td>\n",
       "      <td>0</td>\n",
       "    </tr>\n",
       "  </tbody>\n",
       "</table>\n",
       "</div>"
      ],
      "text/plain": [
       "   Gender Age Group                                            Content  \\\n",
       "0  female       30s  By deciding on a tidy organizational device yo...   \n",
       "1  female       20s  Each year we all make the same resolutions: to...   \n",
       "2    male       30s  For indoor utilizes these lights come in reduc...   \n",
       "3  female       30s  1. Look your best.<br />;If you're a Kurt Coba...   \n",
       "4  female       20s  For years tax debt resolution was about mislea...   \n",
       "5  female       30s  <img class=\"smiley\" src=\"http://www.pan.net/sm...   \n",
       "6  female       20s  Its better a living Dog, than a dead Lion........   \n",
       "7  female       30s  <a href=\"http://en.pan.netcom/go/out/url=-aHR0...   \n",
       "8  female       20s  For centuries, society has been slowly driftin...   \n",
       "9  female       30s  Any homeowner that is currently dealing with a...   \n",
       "\n",
       "                                      Processed Text  Gender_indexed  \n",
       "0  by deciding on a tidy organizational device yo...               0  \n",
       "1  each year we all make the same resolutions to ...               0  \n",
       "2  for indoor utilizes these lights come in reduc...               1  \n",
       "3  look your bestif youre a kurt cobain or johnny...               0  \n",
       "4  for years tax debt resolution was about mislea...               0  \n",
       "5  img classsmiley srchttpwwwpannetsmiliessmilegi...               0  \n",
       "6           its better a living dog than a dead lion               0  \n",
       "7  a hrefhttpenpannetcomgoouturlahrcdovlddytzwxyb...               0  \n",
       "8  for centuries society has been slowly drifting...               0  \n",
       "9  any homeowner that is currently dealing with a...               0  "
      ]
     },
     "execution_count": 20,
     "metadata": {},
     "output_type": "execute_result"
    }
   ],
   "source": [
    "column_to_index = 'Gender'\n",
    "label_encoder = LabelEncoder()\n",
    "data[column_to_index + '_indexed'] = label_encoder.fit_transform(data[column_to_index])\n",
    "data.head(10)"
   ]
  },
  {
   "cell_type": "markdown",
   "metadata": {
    "id": "dIXClq28RYJY"
   },
   "source": [
    "## Data Splitting"
   ]
  },
  {
   "cell_type": "code",
   "execution_count": 21,
   "metadata": {
    "id": "_iynsrEkQFDc"
   },
   "outputs": [],
   "source": [
    "X = data['Processed Text']\n",
    "y = data['Gender_indexed']\n",
    "X_train, X_test, y_train, y_test = train_test_split(X, y, test_size=0.3, random_state=42)"
   ]
  },
  {
   "cell_type": "markdown",
   "metadata": {
    "id": "dczsXoOCRt5Q"
   },
   "source": [
    "## Feature Extraction\n",
    "TF-IDF, Count Vectorizer"
   ]
  },
  {
   "cell_type": "code",
   "execution_count": 22,
   "metadata": {
    "id": "nmYle0Q5QFGW"
   },
   "outputs": [],
   "source": [
    "tfidf_vect = TfidfVectorizer()\n",
    "Xtrain_tfidf = tfidf_vect.fit_transform(X_train)\n",
    "Xtest_tfidf = tfidf_vect.transform(X_test)\n",
    "\n",
    "count_vect = CountVectorizer()\n",
    "Xtrain_count = count_vect.fit_transform(X_train)\n",
    "Xtest_count = count_vect.transform(X_test)"
   ]
  },
  {
   "cell_type": "markdown",
   "metadata": {
    "id": "RDLdCa6lR9dX"
   },
   "source": [
    "## Models"
   ]
  },
  {
   "cell_type": "code",
   "execution_count": 23,
   "metadata": {
    "id": "VUYLJlA9WWca"
   },
   "outputs": [],
   "source": [
    "from sklearn.ensemble import AdaBoostClassifier\n",
    "from sklearn.ensemble import RandomForestClassifier\n",
    "from sklearn.linear_model import LogisticRegression\n",
    "from sklearn.svm import LinearSVC\n",
    "from sklearn.ensemble import GradientBoostingClassifier\n",
    "from sklearn.naive_bayes import GaussianNB, MultinomialNB\n",
    "from sklearn.tree import DecisionTreeClassifier\n",
    "from sklearn.neighbors import KNeighborsClassifier\n",
    "from sklearn.metrics import accuracy_score, precision_score, recall_score, f1_score\n"
   ]
  },
  {
   "cell_type": "markdown",
   "metadata": {
    "id": "hHG3Kf0na3YL"
   },
   "source": [
    "### Logistic Rgression"
   ]
  },
  {
   "cell_type": "code",
   "execution_count": 24,
   "metadata": {
    "id": "sqWHVq4qaktE"
   },
   "outputs": [
    {
     "name": "stdout",
     "output_type": "stream",
     "text": [
      "Logistic Regression Classifier  Accuracy : 54.07%\n"
     ]
    },
    {
     "name": "stderr",
     "output_type": "stream",
     "text": [
      "C:\\Users\\B.Akhileswar Reddy\\anaconda3\\lib\\site-packages\\sklearn\\linear_model\\_logistic.py:814: ConvergenceWarning: lbfgs failed to converge (status=1):\n",
      "STOP: TOTAL NO. of ITERATIONS REACHED LIMIT.\n",
      "\n",
      "Increase the number of iterations (max_iter) or scale the data as shown in:\n",
      "    https://scikit-learn.org/stable/modules/preprocessing.html\n",
      "Please also refer to the documentation for alternative solver options:\n",
      "    https://scikit-learn.org/stable/modules/linear_model.html#logistic-regression\n",
      "  n_iter_i = _check_optimize_result(\n"
     ]
    }
   ],
   "source": [
    "logistic_regression_count = LogisticRegression(max_iter=100, random_state=42)\n",
    "logistic_regression_count.fit(Xtrain_count, y_train)\n",
    "\n",
    "predictions_lr = logistic_regression_count.predict(Xtest_count)\n",
    "accuracy_lr= accuracy_score(y_test, predictions_lr)\n",
    "precision_lr = precision_score(y_test, predictions_lr)\n",
    "recall_lr = recall_score(y_test, predictions_lr)\n",
    "f1_lr = f1_score(y_test, predictions_lr)\n",
    "print(\"Logistic Regression Classifier  Accuracy :\", \"{:.2f}%\".format(100*accuracy_lr))"
   ]
  },
  {
   "cell_type": "markdown",
   "metadata": {
    "id": "IG7myQFrbcUE"
   },
   "source": [
    "### KNN"
   ]
  },
  {
   "cell_type": "code",
   "execution_count": 25,
   "metadata": {
    "id": "fOnh8cwK4FaL"
   },
   "outputs": [
    {
     "name": "stdout",
     "output_type": "stream",
     "text": [
      "K-Nearest Neighbors Classifier  Accuracy : 53.40%\n"
     ]
    }
   ],
   "source": [
    "knn_tfidf = KNeighborsClassifier()\n",
    "knn_tfidf.fit(Xtrain_tfidf, y_train)\n",
    "\n",
    "predictions_knn= knn_tfidf.predict(Xtest_tfidf)\n",
    "accuracy_knn= accuracy_score(y_test, predictions_knn)\n",
    "precision_knn = precision_score(y_test, predictions_knn)\n",
    "recall_knn = recall_score(y_test, predictions_knn)\n",
    "f1_knn = f1_score(y_test, predictions_knn)\n",
    "print(\"K-Nearest Neighbors Classifier  Accuracy :\", \"{:.2f}%\".format(100*accuracy_knn))"
   ]
  },
  {
   "cell_type": "markdown",
   "metadata": {
    "id": "BeXdX-7lZIO1"
   },
   "source": [
    "### Naive Bayes"
   ]
  },
  {
   "cell_type": "code",
   "execution_count": 26,
   "metadata": {
    "id": "_ce8-BEEVAGl"
   },
   "outputs": [
    {
     "name": "stdout",
     "output_type": "stream",
     "text": [
      "Naive Bayes Accuracy : 55.04%\n"
     ]
    }
   ],
   "source": [
    "naive_bayes_classifier = MultinomialNB()\n",
    "naive_bayes_classifier.fit(Xtrain_count, y_train)\n",
    "\n",
    "predictions_nb = naive_bayes_classifier.predict(Xtest_count)\n",
    "accuracy_nb = accuracy_score(y_test, predictions_nb)\n",
    "precision_nb = precision_score(y_test, predictions_nb)\n",
    "recall_nb = recall_score(y_test, predictions_nb)\n",
    "f1_nb = f1_score(y_test, predictions_nb)\n",
    "print(\"Naive Bayes Accuracy :\", \"{:.2f}%\".format(100*accuracy_nb))"
   ]
  },
  {
   "cell_type": "markdown",
   "metadata": {
    "id": "xYiDmpt-ZKv-"
   },
   "source": [
    "### SVM"
   ]
  },
  {
   "cell_type": "code",
   "execution_count": 27,
   "metadata": {
    "colab": {
     "base_uri": "https://localhost:8080/"
    },
    "id": "2bfEMScKQFJS",
    "outputId": "c79c6965-57a0-4fca-cedc-c02d9da1dd21"
   },
   "outputs": [
    {
     "name": "stdout",
     "output_type": "stream",
     "text": [
      "Linear Support Vector Classifier Accuracy : 54.71%\n"
     ]
    }
   ],
   "source": [
    "linear_svc = LinearSVC(penalty='l2',loss = 'hinge')\n",
    "linear_svc.fit(Xtrain_tfidf,y_train)\n",
    "\n",
    "predictions_svm=linear_svc.predict(Xtest_tfidf)\n",
    "accuracy_svm=accuracy_score(y_test,predictions_svm)\n",
    "precision_svm = precision_score(y_test, predictions_svm)\n",
    "recall_svm = recall_score(y_test, predictions_svm)\n",
    "f1_svm= f1_score(y_test, predictions_svm)\n",
    "print(\"Linear Support Vector Classifier Accuracy :\", \"{:.2f}%\".format(100*accuracy_svm))"
   ]
  },
  {
   "cell_type": "markdown",
   "metadata": {
    "id": "ZyAwsNVcZWdr"
   },
   "source": [
    "### Random Forest"
   ]
  },
  {
   "cell_type": "code",
   "execution_count": 28,
   "metadata": {
    "id": "1JD10_5X3rGM"
   },
   "outputs": [
    {
     "name": "stdout",
     "output_type": "stream",
     "text": [
      "Random Forest Classifier  Accuracy : 55.11%\n"
     ]
    }
   ],
   "source": [
    "random_forest_tfidf = RandomForestClassifier(n_estimators=100, random_state=42)\n",
    "random_forest_tfidf.fit(Xtrain_tfidf, y_train)\n",
    "\n",
    "predictions_rf= random_forest_tfidf.predict(Xtest_tfidf)\n",
    "accuracy_rf= accuracy_score(y_test, predictions_rf)\n",
    "precision_rf = precision_score(y_test, predictions_rf)\n",
    "recall_rf= recall_score(y_test, predictions_rf)\n",
    "f1_rf= f1_score(y_test, predictions_rf)\n",
    "print(\"Random Forest Classifier  Accuracy :\", \"{:.2f}%\".format(100*accuracy_rf))"
   ]
  },
  {
   "cell_type": "markdown",
   "metadata": {
    "id": "wAvNv9mDbvf5"
   },
   "source": [
    "### Decision Tree Classifier"
   ]
  },
  {
   "cell_type": "code",
   "execution_count": 29,
   "metadata": {
    "id": "8CND58DzbHC2"
   },
   "outputs": [
    {
     "name": "stdout",
     "output_type": "stream",
     "text": [
      "KDecision Tree Classifier Accuracy : 52.84%\n"
     ]
    }
   ],
   "source": [
    "decision_tree_count = DecisionTreeClassifier()\n",
    "decision_tree_count.fit(Xtrain_count, y_train)\n",
    "\n",
    "predictions_dt = decision_tree_count.predict(Xtest_count)\n",
    "accuracy_dt= accuracy_score(y_test, predictions_dt)\n",
    "precision_dt = precision_score(y_test, predictions_dt)\n",
    "recall_dt= recall_score(y_test, predictions_dt)\n",
    "f1_dt= f1_score(y_test, predictions_dt)\n",
    "print(\"KDecision Tree Classifier Accuracy :\", \"{:.2f}%\".format(100*accuracy_dt))"
   ]
  },
  {
   "cell_type": "markdown",
   "metadata": {
    "id": "El2oTCaFZNYv"
   },
   "source": [
    "### Adaboost"
   ]
  },
  {
   "cell_type": "code",
   "execution_count": 30,
   "metadata": {
    "id": "Z7MmMwGjYvzx"
   },
   "outputs": [
    {
     "name": "stdout",
     "output_type": "stream",
     "text": [
      "Adaboost Accuracy : 52.74%\n"
     ]
    }
   ],
   "source": [
    "base_classifier = DecisionTreeClassifier(max_depth=1)\n",
    "adaboost_classifier = AdaBoostClassifier(base_classifier, n_estimators=50, random_state=42)\n",
    "adaboost_classifier.fit(Xtrain_tfidf, y_train)\n",
    "\n",
    "predictions_ada = adaboost_classifier.predict(Xtest_tfidf)\n",
    "accuracy_ada = accuracy_score(y_test, predictions_ada)\n",
    "precision_ada = precision_score(y_test, predictions_ada)\n",
    "recall_ada = recall_score(y_test, predictions_ada)\n",
    "f1_ada= f1_score(y_test, predictions_ada)\n",
    "print(\"Adaboost Accuracy :\", \"{:.2f}%\".format(100*accuracy_ada))"
   ]
  },
  {
   "cell_type": "markdown",
   "metadata": {
    "id": "WJCWinvYd_hX"
   },
   "source": [
    "## Comparisions"
   ]
  },
  {
   "cell_type": "code",
   "execution_count": 31,
   "metadata": {
    "id": "iC8bpygxX7rR"
   },
   "outputs": [
    {
     "data": {
      "text/html": [
       "<div>\n",
       "<style scoped>\n",
       "    .dataframe tbody tr th:only-of-type {\n",
       "        vertical-align: middle;\n",
       "    }\n",
       "\n",
       "    .dataframe tbody tr th {\n",
       "        vertical-align: top;\n",
       "    }\n",
       "\n",
       "    .dataframe thead th {\n",
       "        text-align: right;\n",
       "    }\n",
       "</style>\n",
       "<table border=\"1\" class=\"dataframe\">\n",
       "  <thead>\n",
       "    <tr style=\"text-align: right;\">\n",
       "      <th></th>\n",
       "      <th>Model</th>\n",
       "      <th>Accuracy</th>\n",
       "      <th>Precision</th>\n",
       "      <th>Recall</th>\n",
       "      <th>F1</th>\n",
       "    </tr>\n",
       "  </thead>\n",
       "  <tbody>\n",
       "    <tr>\n",
       "      <th>0</th>\n",
       "      <td>Logistic Regression</td>\n",
       "      <td>0.540721</td>\n",
       "      <td>0.548387</td>\n",
       "      <td>0.567037</td>\n",
       "      <td>0.557556</td>\n",
       "    </tr>\n",
       "    <tr>\n",
       "      <th>1</th>\n",
       "      <td>K-neighbours</td>\n",
       "      <td>0.534045</td>\n",
       "      <td>0.536720</td>\n",
       "      <td>0.635710</td>\n",
       "      <td>0.582036</td>\n",
       "    </tr>\n",
       "    <tr>\n",
       "      <th>2</th>\n",
       "      <td>Naive Bayes</td>\n",
       "      <td>0.550401</td>\n",
       "      <td>0.578856</td>\n",
       "      <td>0.436887</td>\n",
       "      <td>0.497950</td>\n",
       "    </tr>\n",
       "    <tr>\n",
       "      <th>3</th>\n",
       "      <td>SVM</td>\n",
       "      <td>0.547063</td>\n",
       "      <td>0.563609</td>\n",
       "      <td>0.498365</td>\n",
       "      <td>0.528983</td>\n",
       "    </tr>\n",
       "    <tr>\n",
       "      <th>4</th>\n",
       "      <td>Random Forest</td>\n",
       "      <td>0.551068</td>\n",
       "      <td>0.573955</td>\n",
       "      <td>0.466972</td>\n",
       "      <td>0.514966</td>\n",
       "    </tr>\n",
       "    <tr>\n",
       "      <th>5</th>\n",
       "      <td>Decision Tree</td>\n",
       "      <td>0.528371</td>\n",
       "      <td>0.537323</td>\n",
       "      <td>0.546109</td>\n",
       "      <td>0.541680</td>\n",
       "    </tr>\n",
       "    <tr>\n",
       "      <th>6</th>\n",
       "      <td>Ada Boost</td>\n",
       "      <td>0.527370</td>\n",
       "      <td>0.532194</td>\n",
       "      <td>0.610857</td>\n",
       "      <td>0.568819</td>\n",
       "    </tr>\n",
       "  </tbody>\n",
       "</table>\n",
       "</div>"
      ],
      "text/plain": [
       "                 Model  Accuracy  Precision    Recall        F1\n",
       "0  Logistic Regression  0.540721   0.548387  0.567037  0.557556\n",
       "1         K-neighbours  0.534045   0.536720  0.635710  0.582036\n",
       "2          Naive Bayes  0.550401   0.578856  0.436887  0.497950\n",
       "3                  SVM  0.547063   0.563609  0.498365  0.528983\n",
       "4        Random Forest  0.551068   0.573955  0.466972  0.514966\n",
       "5        Decision Tree  0.528371   0.537323  0.546109  0.541680\n",
       "6            Ada Boost  0.527370   0.532194  0.610857  0.568819"
      ]
     },
     "execution_count": 31,
     "metadata": {},
     "output_type": "execute_result"
    }
   ],
   "source": [
    "comparision_table = pd.DataFrame({\n",
    "    'Model': ['Logistic Regression', 'K-neighbours','Naive Bayes','SVM','Random Forest','Decision Tree','Ada Boost' ],\n",
    "    'Accuracy': [accuracy_lr,accuracy_knn,accuracy_nb ,accuracy_svm, accuracy_rf,accuracy_dt,accuracy_ada],\n",
    "    'Precision':[precision_lr,precision_knn,precision_nb ,precision_svm,precision_rf,precision_dt,precision_ada],\n",
    "        'Recall':[recall_lr,recall_knn,recall_nb ,recall_svm,recall_rf,recall_dt,recall_ada],\n",
    "            'F1':[f1_lr,f1_knn,f1_nb ,f1_svm,f1_rf,f1_dt,f1_ada]\n",
    "})\n",
    "\n",
    "comparision_table"
   ]
  },
  {
   "cell_type": "code",
   "execution_count": null,
   "metadata": {
    "id": "yhAppYvvcv8B"
   },
   "outputs": [],
   "source": []
  },
  {
   "cell_type": "code",
   "execution_count": null,
   "metadata": {
    "id": "t5tJi83SeNPn"
   },
   "outputs": [],
   "source": []
  }
 ],
 "metadata": {
  "colab": {
   "provenance": []
  },
  "kernelspec": {
   "display_name": "Python 3 (ipykernel)",
   "language": "python",
   "name": "python3"
  },
  "language_info": {
   "codemirror_mode": {
    "name": "ipython",
    "version": 3
   },
   "file_extension": ".py",
   "mimetype": "text/x-python",
   "name": "python",
   "nbconvert_exporter": "python",
   "pygments_lexer": "ipython3",
   "version": "3.9.12"
  }
 },
 "nbformat": 4,
 "nbformat_minor": 1
}
